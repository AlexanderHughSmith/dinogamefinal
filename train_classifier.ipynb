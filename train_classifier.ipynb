{
 "cells": [
  {
   "cell_type": "code",
   "execution_count": 26,
   "metadata": {},
   "outputs": [],
   "source": [
    "import os\n",
    "import time\n",
    "import copy\n",
    "import torch\n",
    "import torch.nn as nn\n",
    "import torch.optim as optim\n",
    "from torch.optim import lr_scheduler\n",
    "import torchvision\n",
    "import torchvision.models as models\n",
    "from torchvision import transforms"
   ]
  },
  {
   "cell_type": "code",
   "execution_count": 27,
   "metadata": {},
   "outputs": [],
   "source": [
    "# Define variables\n",
    "num_classes = 10\n",
    "data_folder = 'data'\n",
    "size = (500, 400)\n",
    "device = torch.device('cuda') if torch.cuda.is_available() else torch.device('cpu')"
   ]
  },
  {
   "cell_type": "code",
   "execution_count": 28,
   "metadata": {},
   "outputs": [],
   "source": [
    "# Load data\n",
    "# https://pytorch.org/docs/stable/torchvision/datasets.html#imagefolder\n",
    "\n",
    "data_transforms = {\n",
    "    'train': transforms.Compose([\n",
    "        transforms.Resize(size),\n",
    "        transforms.ToTensor(),\n",
    "        transforms.Normalize([0.485, 0.456, 0.406], [0.229, 0.224, 0.225])\n",
    "    ]),\n",
    "    'val': transforms.Compose([\n",
    "        transforms.Resize(size),\n",
    "        transforms.ToTensor(),\n",
    "        transforms.Normalize([0.485, 0.456, 0.406], [0.229, 0.224, 0.225])\n",
    "    ]),\n",
    "}\n",
    "\n",
    "image_datasets = {x: torchvision.datasets.ImageFolder(os.path.join(data_folder, x), data_transforms[x]) for x in ['train', 'val']}\n",
    "dataloaders = {x: torch.utils.data.DataLoader(image_datasets[x], batch_size=8, shuffle=True, num_workers=4) for x in ['train', 'val']}\n",
    "dataset_sizes = {x: len(image_datasets[x]) for x in ['train', 'val']}\n",
    "class_names = image_datasets['train'].classes"
   ]
  },
  {
   "cell_type": "code",
   "execution_count": 35,
   "metadata": {},
   "outputs": [
    {
     "data": {
      "text/plain": [
       "['dino - 100px away',\n",
       " 'dino - 150px away',\n",
       " 'dino - 250px away',\n",
       " 'dino - 75px away',\n",
       " 'dino - 90px away',\n",
       " 'pterodactyl - 100px away',\n",
       " 'pterodactyl - 150px away',\n",
       " 'pterodactyl - 250px away',\n",
       " 'pterodactyl - 75px away',\n",
       " 'pterodactyl - 90px away']"
      ]
     },
     "execution_count": 35,
     "metadata": {},
     "output_type": "execute_result"
    }
   ],
   "source": [
    "class_names"
   ]
  },
  {
   "cell_type": "code",
   "execution_count": 29,
   "metadata": {},
   "outputs": [
    {
     "data": {
      "text/plain": [
       "(tensor([[[2.2489, 2.2489, 2.2489,  ..., 2.2489, 2.2489, 2.2489],\n",
       "          [2.2489, 2.2489, 2.2489,  ..., 2.2489, 2.2489, 2.2489],\n",
       "          [2.2489, 2.2489, 2.2489,  ..., 2.2489, 2.2489, 2.2489],\n",
       "          ...,\n",
       "          [2.2489, 2.2489, 2.2489,  ..., 2.2489, 2.2489, 2.2489],\n",
       "          [2.2489, 2.2489, 2.2489,  ..., 2.2489, 2.2489, 2.2489],\n",
       "          [2.2489, 2.2489, 2.2489,  ..., 2.2489, 2.2489, 2.2489]],\n",
       " \n",
       "         [[2.4286, 2.4286, 2.4286,  ..., 2.4286, 2.4286, 2.4286],\n",
       "          [2.4286, 2.4286, 2.4286,  ..., 2.4286, 2.4286, 2.4286],\n",
       "          [2.4286, 2.4286, 2.4286,  ..., 2.4286, 2.4286, 2.4286],\n",
       "          ...,\n",
       "          [2.4286, 2.4286, 2.4286,  ..., 2.4286, 2.4286, 2.4286],\n",
       "          [2.4286, 2.4286, 2.4286,  ..., 2.4286, 2.4286, 2.4286],\n",
       "          [2.4286, 2.4286, 2.4286,  ..., 2.4286, 2.4286, 2.4286]],\n",
       " \n",
       "         [[2.6400, 2.6400, 2.6400,  ..., 2.6400, 2.6400, 2.6400],\n",
       "          [2.6400, 2.6400, 2.6400,  ..., 2.6400, 2.6400, 2.6400],\n",
       "          [2.6400, 2.6400, 2.6400,  ..., 2.6400, 2.6400, 2.6400],\n",
       "          ...,\n",
       "          [2.6400, 2.6400, 2.6400,  ..., 2.6400, 2.6400, 2.6400],\n",
       "          [2.6400, 2.6400, 2.6400,  ..., 2.6400, 2.6400, 2.6400],\n",
       "          [2.6400, 2.6400, 2.6400,  ..., 2.6400, 2.6400, 2.6400]]]),\n",
       " 0)"
      ]
     },
     "execution_count": 29,
     "metadata": {},
     "output_type": "execute_result"
    }
   ],
   "source": [
    "image_datasets['train'][0]"
   ]
  },
  {
   "cell_type": "code",
   "execution_count": 30,
   "metadata": {},
   "outputs": [],
   "source": [
    "# Create model\n",
    "# https://pytorch.org/docs/stable/torchvision/models.html\n",
    "# https://pytorch.org/tutorials/beginner/transfer_learning_tutorial.html\n",
    "model = models.resnet18(pretrained=True)\n",
    "\n",
    "# Change number of output features\n",
    "# model_ft = models.resnet18(pretrained=True)\n",
    "num_ftrs = model.fc.in_features\n",
    "# Here the size of each output sample is set to 2.\n",
    "# Alternatively, it can be generalized to nn.Linear(num_ftrs, len(class_names)).\n",
    "model.fc = nn.Linear(num_ftrs, len(class_names))\n",
    "\n",
    "model = model.to(device)\n",
    "\n",
    "criterion = nn.CrossEntropyLoss()\n",
    "\n",
    "# Observe that all parameters are being optimized\n",
    "optimizer = optim.SGD(model.parameters(), lr=0.001, momentum=0.9)\n",
    "\n",
    "# Decay LR by a factor of 0.1 every 7 epochs\n",
    "exp_lr_scheduler = lr_scheduler.StepLR(optimizer, step_size=7, gamma=0.1)\n"
   ]
  },
  {
   "cell_type": "code",
   "execution_count": 31,
   "metadata": {},
   "outputs": [],
   "source": [
    "# Training code\n",
    "def train_model(model, criterion, optimizer, scheduler, num_epochs=25):\n",
    "    since = time.time()\n",
    "\n",
    "    best_model_wts = copy.deepcopy(model.state_dict())\n",
    "    best_acc = 0.0\n",
    "\n",
    "    for epoch in range(num_epochs):\n",
    "        print('Epoch {}/{}'.format(epoch, num_epochs - 1))\n",
    "        print('-' * 10)\n",
    "\n",
    "        # Each epoch has a training and validation phase\n",
    "        for phase in ['train', 'val']:\n",
    "            if phase == 'train':\n",
    "                model.train()  # Set model to training mode\n",
    "            else:\n",
    "                model.eval()   # Set model to evaluate mode\n",
    "\n",
    "            running_loss = 0.0\n",
    "            running_corrects = 0\n",
    "\n",
    "            # Iterate over data.\n",
    "            for inputs, labels in dataloaders[phase]:\n",
    "                inputs = inputs.to(device)\n",
    "                labels = labels.to(device)\n",
    "\n",
    "                # zero the parameter gradients\n",
    "                optimizer.zero_grad()\n",
    "\n",
    "                # forward\n",
    "                # track history if only in train\n",
    "                with torch.set_grad_enabled(phase == 'train'):\n",
    "                    outputs = model(inputs)\n",
    "                    _, preds = torch.max(outputs, 1)\n",
    "                    loss = criterion(outputs, labels)\n",
    "\n",
    "                    # backward + optimize only if in training phase\n",
    "                    if phase == 'train':\n",
    "                        loss.backward()\n",
    "                        optimizer.step()\n",
    "\n",
    "                # statistics\n",
    "                running_loss += loss.item() * inputs.size(0)\n",
    "                running_corrects += torch.sum(preds == labels.data)\n",
    "            if phase == 'train':\n",
    "                scheduler.step()\n",
    "\n",
    "            epoch_loss = running_loss / dataset_sizes[phase]\n",
    "            epoch_acc = running_corrects.double() / dataset_sizes[phase]\n",
    "\n",
    "            print('{} Loss: {:.4f} Acc: {:.4f}'.format(\n",
    "                phase, epoch_loss, epoch_acc))\n",
    "\n",
    "            # deep copy the model\n",
    "            if phase == 'val' and epoch_acc > best_acc:\n",
    "                best_acc = epoch_acc\n",
    "                best_model_wts = copy.deepcopy(model.state_dict())\n",
    "\n",
    "        print()\n",
    "\n",
    "    time_elapsed = time.time() - since\n",
    "    print('Training complete in {:.0f}m {:.0f}s'.format(\n",
    "        time_elapsed // 60, time_elapsed % 60))\n",
    "    print('Best val Acc: {:4f}'.format(best_acc))\n",
    "\n",
    "    # load best model weights\n",
    "    model.load_state_dict(best_model_wts)\n",
    "    return model"
   ]
  },
  {
   "cell_type": "code",
   "execution_count": 32,
   "metadata": {},
   "outputs": [
    {
     "name": "stdout",
     "output_type": "stream",
     "text": [
      "Epoch 0/9\n",
      "----------\n",
      "train Loss: 2.2794 Acc: 0.1160\n",
      "val Loss: 2.1904 Acc: 0.1333\n",
      "\n",
      "Epoch 1/9\n",
      "----------\n",
      "train Loss: 1.9276 Acc: 0.3094\n",
      "val Loss: 1.6030 Acc: 0.4667\n",
      "\n",
      "Epoch 2/9\n",
      "----------\n",
      "train Loss: 1.4925 Acc: 0.5470\n",
      "val Loss: 1.2152 Acc: 0.7333\n",
      "\n",
      "Epoch 3/9\n",
      "----------\n",
      "train Loss: 1.1119 Acc: 0.7348\n",
      "val Loss: 0.9468 Acc: 0.7000\n",
      "\n",
      "Epoch 4/9\n",
      "----------\n",
      "train Loss: 0.9179 Acc: 0.8122\n",
      "val Loss: 0.6972 Acc: 0.8667\n",
      "\n",
      "Epoch 5/9\n",
      "----------\n",
      "train Loss: 0.6332 Acc: 0.9006\n",
      "val Loss: 0.5749 Acc: 0.9000\n",
      "\n",
      "Epoch 6/9\n",
      "----------\n",
      "train Loss: 0.4832 Acc: 0.9448\n",
      "val Loss: 0.4655 Acc: 0.9000\n",
      "\n",
      "Epoch 7/9\n",
      "----------\n",
      "train Loss: 0.4100 Acc: 0.9724\n",
      "val Loss: 0.4232 Acc: 0.8667\n",
      "\n",
      "Epoch 8/9\n",
      "----------\n",
      "train Loss: 0.3822 Acc: 0.9724\n",
      "val Loss: 0.4044 Acc: 0.9000\n",
      "\n",
      "Epoch 9/9\n",
      "----------\n",
      "train Loss: 0.3975 Acc: 0.9669\n",
      "val Loss: 0.3921 Acc: 0.9000\n",
      "\n",
      "Training complete in 25m 16s\n",
      "Best val Acc: 0.900000\n"
     ]
    }
   ],
   "source": [
    "# Let's train\n",
    "model_ft = train_model(model, criterion, optimizer, exp_lr_scheduler, num_epochs=10)"
   ]
  },
  {
   "cell_type": "code",
   "execution_count": 33,
   "metadata": {},
   "outputs": [],
   "source": [
    "torch.save(model_ft.state_dict(),'test.pth')"
   ]
  },
  {
   "cell_type": "code",
   "execution_count": 34,
   "metadata": {},
   "outputs": [
    {
     "name": "stdout",
     "output_type": "stream",
     "text": [
      "total 43M\n",
      "-rw-rw-r-- 1 alexander alexander 3.2K Feb 22 17:42 gameV3.py\n",
      "drwxrwxr-x 9 alexander alexander 4.0K Feb 22 17:57 ..\n",
      "-rw-r--r-- 1 alexander alexander   23 Feb 22 17:58 README.md\n",
      "drwxrwxr-x 3 alexander alexander 4.0K Feb 22 18:23 .idea\n",
      "drwxrwxr-x 4 alexander alexander 4.0K Feb 22 18:44 data\n",
      "-rw-r--r-- 1 alexander alexander 1.8K Feb 22 19:12 .gitignore\n",
      "drwxr-xr-x 2 alexander alexander 4.0K Feb 22 19:18 .ipynb_checkpoints\n",
      "-rw-r--r-- 1 alexander alexander 6.8K Feb 22 20:24 Predict.ipynb\n",
      "drwxr-xr-x 8 alexander alexander 4.0K Feb 22 20:35 .git\n",
      "-rw-r--r-- 1 alexander alexander  11K Feb 22 21:00 train_classifier.ipynb\n",
      "drwxr-xr-x 6 alexander alexander 4.0K Feb 22 21:00 .\n",
      "-rw-r--r-- 1 alexander alexander  43M Feb 22 21:02 test.pth\n"
     ]
    }
   ],
   "source": [
    "!ls -larth"
   ]
  }
 ],
 "metadata": {
  "kernelspec": {
   "display_name": "Python [conda env:dinogame]",
   "language": "python",
   "name": "conda-env-dinogame-py"
  },
  "language_info": {
   "codemirror_mode": {
    "name": "ipython",
    "version": 3
   },
   "file_extension": ".py",
   "mimetype": "text/x-python",
   "name": "python",
   "nbconvert_exporter": "python",
   "pygments_lexer": "ipython3",
   "version": "3.7.6"
  }
 },
 "nbformat": 4,
 "nbformat_minor": 4
}
